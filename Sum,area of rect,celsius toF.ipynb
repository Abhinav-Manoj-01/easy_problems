{
 "cells": [
  {
   "cell_type": "code",
   "execution_count": 1,
   "id": "3c689b17-d7b4-4e06-a262-08b0a076ad8d",
   "metadata": {},
   "outputs": [
    {
     "name": "stdout",
     "output_type": "stream",
     "text": [
      "Namah Shivaya\n"
     ]
    }
   ],
   "source": [
    "print(\"Namah Shivaya\") #1"
   ]
  },
  {
   "cell_type": "code",
   "execution_count": 2,
   "id": "09f17a61-23d7-4e81-8e58-6e57a81b1855",
   "metadata": {},
   "outputs": [
    {
     "name": "stdin",
     "output_type": "stream",
     "text": [
      "Enter number 1: 2\n",
      "Enter number 2: 5\n"
     ]
    },
    {
     "name": "stdout",
     "output_type": "stream",
     "text": [
      "7\n"
     ]
    }
   ],
   "source": [
    "a=int(input(\"Enter number 1:\")) #2 sum\n",
    "b=int(input(\"Enter number 2:\"))\n",
    "print(a+b)"
   ]
  },
  {
   "cell_type": "code",
   "execution_count": 4,
   "id": "01a7375e-ea79-4ce8-ad96-243db18eaa62",
   "metadata": {},
   "outputs": [
    {
     "name": "stdin",
     "output_type": "stream",
     "text": [
      "enter name abhi\n"
     ]
    },
    {
     "name": "stdout",
     "output_type": "stream",
     "text": [
      "Namah Shivaya abhi\n"
     ]
    }
   ],
   "source": [
    "name=input(\"enter name\") #3\n",
    "print(\"Namah Shivaya\",name)"
   ]
  },
  {
   "cell_type": "code",
   "execution_count": 5,
   "id": "a9f22a95-9825-4d0e-b79e-1a03b929aac5",
   "metadata": {},
   "outputs": [
    {
     "name": "stdin",
     "output_type": "stream",
     "text": [
      "legth: 2\n",
      "width: 2\n"
     ]
    },
    {
     "name": "stdout",
     "output_type": "stream",
     "text": [
      "4\n"
     ]
    }
   ],
   "source": [
    "l=int(input(\"legth:\")) #4 area of rectangle \n",
    "w=int(input(\"width:\")) \n",
    "area=l*w\n",
    "print(area)"
   ]
  },
  {
   "cell_type": "code",
   "execution_count": 7,
   "id": "c2629cee-563e-4b70-a3a0-9537e0710195",
   "metadata": {},
   "outputs": [
    {
     "name": "stdin",
     "output_type": "stream",
     "text": [
      "celsius 40\n"
     ]
    },
    {
     "name": "stdout",
     "output_type": "stream",
     "text": [
      "104.0\n"
     ]
    }
   ],
   "source": [
    "c=int(input(\"celsius\")) #5 celcius to fahrenheit\n",
    "f=c*1.8+32\n",
    "print(f)"
   ]
  },
  {
   "cell_type": "code",
   "execution_count": null,
   "id": "9ac0d2b7-1a9d-4f9c-8344-82a8bf829790",
   "metadata": {},
   "outputs": [],
   "source": [
    "#6 Calculating simple interest\n",
    "# simple in"
   ]
  }
 ],
 "metadata": {
  "kernelspec": {
   "display_name": "Python 3 (ipykernel)",
   "language": "python",
   "name": "python3"
  },
  "language_info": {
   "codemirror_mode": {
    "name": "ipython",
    "version": 3
   },
   "file_extension": ".py",
   "mimetype": "text/x-python",
   "name": "python",
   "nbconvert_exporter": "python",
   "pygments_lexer": "ipython3",
   "version": "3.13.5"
  }
 },
 "nbformat": 4,
 "nbformat_minor": 5
}
