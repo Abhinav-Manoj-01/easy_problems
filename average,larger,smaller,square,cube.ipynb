{
 "cells": [
  {
   "cell_type": "code",
   "execution_count": 4,
   "id": "0b0b69d9-cfb3-43d1-93ef-155186c4b37a",
   "metadata": {},
   "outputs": [
    {
     "name": "stdin",
     "output_type": "stream",
     "text": [
      "Enter number1:  10\n",
      "Enter number2:  10\n",
      "Enter number3:  10\n"
     ]
    },
    {
     "name": "stdout",
     "output_type": "stream",
     "text": [
      "10.0\n"
     ]
    }
   ],
   "source": [
    "#11 Find average of 3 numbers\n",
    "number1=int(input(\"Enter number1: \"))\n",
    "number2=int(input(\"Enter number2: \"))\n",
    "number3=int(input(\"Enter number3: \"))\n",
    "sum=number1+number2+number3\n",
    "average=sum/3\n",
    "print(average)"
   ]
  },
  {
   "cell_type": "code",
   "execution_count": 6,
   "id": "173d4dae-96e7-4a3c-aa89-697ff4753fee",
   "metadata": {},
   "outputs": [
    {
     "name": "stdin",
     "output_type": "stream",
     "text": [
      "Enter number1:  5\n",
      "Enter number2:  4\n"
     ]
    },
    {
     "name": "stdout",
     "output_type": "stream",
     "text": [
      "number1 is larger\n"
     ]
    }
   ],
   "source": [
    "#12 Largest of two numbers\n",
    "number1=int(input(\"Enter number1: \"))\n",
    "number2=int(input(\"Enter number2: \"))\n",
    "if number1>number2:\n",
    "    print(\"number1 is larger\")\n",
    "else :\n",
    "    print(\"number2 is larger\")"
   ]
  },
  {
   "cell_type": "code",
   "execution_count": 8,
   "id": "456b7551-3687-4942-b6d4-2b0ef81f6435",
   "metadata": {},
   "outputs": [
    {
     "name": "stdin",
     "output_type": "stream",
     "text": [
      "Enter number1:  5\n",
      "Enter number2:  8\n"
     ]
    },
    {
     "name": "stdout",
     "output_type": "stream",
     "text": [
      "number1 is smaller\n"
     ]
    }
   ],
   "source": [
    "#13 Find smallest of two numbers\n",
    "number1=int(input(\"Enter number1: \"))\n",
    "number2=int(input(\"Enter number2: \"))\n",
    "if number1<number2:\n",
    "    print(\"number1 is smaller\")\n",
    "else :\n",
    "    print(\"number2 is smaller\")"
   ]
  },
  {
   "cell_type": "code",
   "execution_count": 11,
   "id": "e0bebdb3-9ef7-432f-bb12-892927d16635",
   "metadata": {},
   "outputs": [
    {
     "name": "stdin",
     "output_type": "stream",
     "text": [
      "Enter number:  4\n"
     ]
    },
    {
     "name": "stdout",
     "output_type": "stream",
     "text": [
      "Square is : 16\n"
     ]
    }
   ],
   "source": [
    "#14 Square of a number\n",
    "number=int(input(\"Enter number: \"))\n",
    "square=number*number\n",
    "print(\"Square is :\",square)"
   ]
  },
  {
   "cell_type": "code",
   "execution_count": 13,
   "id": "6878025b-951f-4116-912d-b06b1fc0d12c",
   "metadata": {},
   "outputs": [
    {
     "name": "stdin",
     "output_type": "stream",
     "text": [
      "Enter number:  4\n"
     ]
    },
    {
     "name": "stdout",
     "output_type": "stream",
     "text": [
      "Cube is : 64\n"
     ]
    }
   ],
   "source": [
    "#15 Cube of a number\n",
    "number=int(input(\"Enter number: \"))\n",
    "cube=number**3\n",
    "print(\"Cube is :\",cube)"
   ]
  },
  {
   "cell_type": "code",
   "execution_count": null,
   "id": "24a980c7-dfe2-4a56-a558-68537199dc81",
   "metadata": {},
   "outputs": [],
   "source": []
  }
 ],
 "metadata": {
  "kernelspec": {
   "display_name": "Python 3 (ipykernel)",
   "language": "python",
   "name": "python3"
  },
  "language_info": {
   "codemirror_mode": {
    "name": "ipython",
    "version": 3
   },
   "file_extension": ".py",
   "mimetype": "text/x-python",
   "name": "python",
   "nbconvert_exporter": "python",
   "pygments_lexer": "ipython3",
   "version": "3.13.5"
  }
 },
 "nbformat": 4,
 "nbformat_minor": 5
}
