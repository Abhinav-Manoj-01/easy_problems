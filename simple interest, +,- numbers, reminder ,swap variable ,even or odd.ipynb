{
 "cells": [
  {
   "cell_type": "code",
   "execution_count": 9,
   "id": "b52f39a6-a5e4-4e13-9f8e-41d09254db56",
   "metadata": {},
   "outputs": [
    {
     "name": "stdin",
     "output_type": "stream",
     "text": [
      "Enter principal amount: 1000\n",
      "Enter rate of interest: 5\n",
      "Enter time: 2\n"
     ]
    },
    {
     "name": "stdout",
     "output_type": "stream",
     "text": [
      "Simple interest is: 100.0\n"
     ]
    }
   ],
   "source": [
    "#6 Calculating simple interest\n",
    "# simple interest=prt/100(p=principal amount, r=interest rate,t=time)\n",
    "principal_amount=int(input(\"Enter principal amount:\"))\n",
    "rate_of_interest=float(input(\"Enter rate of interest:\"))\n",
    "time=int(input(\"Enter time:\"))\n",
    "simple_interest=principal_amount*rate_of_interest*time*0.01\n",
    "print(\"Simple interest is:\",simple_interest)"
   ]
  },
  {
   "cell_type": "code",
   "execution_count": 14,
   "id": "9b2adb92-2478-49d4-a1a8-fb8df8abd989",
   "metadata": {},
   "outputs": [
    {
     "name": "stdin",
     "output_type": "stream",
     "text": [
      "Enter number: 0\n"
     ]
    },
    {
     "name": "stdout",
     "output_type": "stream",
     "text": [
      "Zero\n"
     ]
    }
   ],
   "source": [
    "#7 Checking if a number is +ve,-ve or zero\n",
    "number=float(input(\"Enter number:\"))\n",
    "if number>0:\n",
    "    print(\"Positive\")\n",
    "elif number<0:\n",
    "    print(\"Negative\")\n",
    "elif number==0:\n",
    "    print(\"Zero\")"
   ]
  },
  {
   "cell_type": "code",
   "execution_count": 16,
   "id": "1f110679-3418-468c-a3db-01bd126ed7a7",
   "metadata": {},
   "outputs": [
    {
     "name": "stdin",
     "output_type": "stream",
     "text": [
      "Enter number 1: 3\n",
      "Enter number 2: 2\n"
     ]
    },
    {
     "name": "stdout",
     "output_type": "stream",
     "text": [
      "1.0\n"
     ]
    }
   ],
   "source": [
    "#8 Finding reminder (use % symbol)\n",
    "number1=float(input(\"Enter number 1:\"))\n",
    "number2=float(input(\"Enter number 2:\"))\n",
    "reminder=number1%number2\n",
    "print(reminder)"
   ]
  },
  {
   "cell_type": "code",
   "execution_count": 18,
   "id": "e9b1d4af-6968-49a7-8b4d-728182aba054",
   "metadata": {},
   "outputs": [
    {
     "name": "stdin",
     "output_type": "stream",
     "text": [
      "Enter variable1: a\n",
      "Enter variable2: b\n"
     ]
    },
    {
     "name": "stdout",
     "output_type": "stream",
     "text": [
      "Variable1=  b\n",
      "Variable2=  a\n"
     ]
    }
   ],
   "source": [
    "#9 Swap variables\n",
    "variable1=input(\"Enter variable1:\")\n",
    "variable2=input(\"Enter variable2:\")\n",
    "print(\"Variable1= \",variable2)\n",
    "print(\"Variable2= \",variable1)"
   ]
  },
  {
   "cell_type": "code",
   "execution_count": 21,
   "id": "856cc922-0b40-487f-8472-ba19704b86d5",
   "metadata": {},
   "outputs": [
    {
     "name": "stdin",
     "output_type": "stream",
     "text": [
      " Enter number: 0\n"
     ]
    },
    {
     "name": "stdout",
     "output_type": "stream",
     "text": [
      "Even\n"
     ]
    }
   ],
   "source": [
    "#10 Even or Odd\n",
    "number=int(input(\" Enter number:\"))\n",
    "if number%2==0: #if divisible by 2, then number is even\n",
    "    print(\"Even\")\n",
    "else :\n",
    "    print(\"Odd\")"
   ]
  },
  {
   "cell_type": "code",
   "execution_count": null,
   "id": "edad2ce7-9458-42a9-977b-ecd4d3ffdf1f",
   "metadata": {},
   "outputs": [],
   "source": []
  }
 ],
 "metadata": {
  "kernelspec": {
   "display_name": "Python 3 (ipykernel)",
   "language": "python",
   "name": "python3"
  },
  "language_info": {
   "codemirror_mode": {
    "name": "ipython",
    "version": 3
   },
   "file_extension": ".py",
   "mimetype": "text/x-python",
   "name": "python",
   "nbconvert_exporter": "python",
   "pygments_lexer": "ipython3",
   "version": "3.13.5"
  }
 },
 "nbformat": 4,
 "nbformat_minor": 5
}
