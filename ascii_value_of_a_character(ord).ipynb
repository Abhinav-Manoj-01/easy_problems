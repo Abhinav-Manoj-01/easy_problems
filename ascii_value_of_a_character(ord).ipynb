{
 "cells": [
  {
   "cell_type": "code",
   "execution_count": 3,
   "id": "8708fa0d-eb82-4d51-9d8f-6011ceb3752e",
   "metadata": {},
   "outputs": [
    {
     "name": "stdin",
     "output_type": "stream",
     "text": [
      "Enter the character: 1\n"
     ]
    },
    {
     "name": "stdout",
     "output_type": "stream",
     "text": [
      "49\n"
     ]
    }
   ],
   "source": [
    "#20 ASCII value of a character(American Standard Code for Information Interchange)\n",
    "character=input(\"Enter the character:\")\n",
    "print(ord(character)) #use ord to get ascii value"
   ]
  },
  {
   "cell_type": "code",
   "execution_count": null,
   "id": "8711dbd9-bf17-460f-926b-d66c2f761aa0",
   "metadata": {},
   "outputs": [],
   "source": []
  }
 ],
 "metadata": {
  "kernelspec": {
   "display_name": "Python 3 (ipykernel)",
   "language": "python",
   "name": "python3"
  },
  "language_info": {
   "codemirror_mode": {
    "name": "ipython",
    "version": 3
   },
   "file_extension": ".py",
   "mimetype": "text/x-python",
   "name": "python",
   "nbconvert_exporter": "python",
   "pygments_lexer": "ipython3",
   "version": "3.13.5"
  }
 },
 "nbformat": 4,
 "nbformat_minor": 5
}
